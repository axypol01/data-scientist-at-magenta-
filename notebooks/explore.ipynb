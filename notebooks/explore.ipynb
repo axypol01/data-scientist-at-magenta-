{
 "cells": [
  {
   "cell_type": "code",
   "execution_count": 13,
   "id": "d7cf9142",
   "metadata": {},
   "outputs": [],
   "source": [
    "import sys\n",
    "import os\n",
    "sys.path.append(os.path.join(os.getcwd(), \"src\"))\n",
    "\n",
    "from dagster import AssetExecutionContext\n",
    "\n",
    "# Import the 3 functions from get_data.py\n",
    "from code_location_interview.assets.magenta_interview.get_data import (\n",
    "    core_data as core_data_asset,\n",
    "    usage_info as usage_info_asset,\n",
    "    customer_interactions as customer_interactions_asset,\n",
    ")\n"
   ]
  },
  {
   "cell_type": "code",
   "execution_count": 14,
   "id": "08f8ab01",
   "metadata": {},
   "outputs": [
    {
     "ename": "TypeError",
     "evalue": "AssetExecutionContext.__init__() missing 1 required positional argument: 'op_execution_context'",
     "output_type": "error",
     "traceback": [
      "\u001b[31m---------------------------------------------------------------------------\u001b[39m",
      "\u001b[31mTypeError\u001b[39m                                 Traceback (most recent call last)",
      "\u001b[36mCell\u001b[39m\u001b[36m \u001b[39m\u001b[32mIn[14]\u001b[39m\u001b[32m, line 2\u001b[39m\n\u001b[32m      1\u001b[39m \u001b[38;5;66;03m# Create dummy context for asset functions\u001b[39;00m\n\u001b[32m----> \u001b[39m\u001b[32m2\u001b[39m context = \u001b[43mAssetExecutionContext\u001b[49m\u001b[43m(\u001b[49m\u001b[43m)\u001b[49m\n\u001b[32m      4\u001b[39m \u001b[38;5;66;03m# Call the core_data multi-asset\u001b[39;00m\n\u001b[32m      5\u001b[39m rating_account_id, unique_customer_ids, core_data = core_data_asset(context)\n",
      "\u001b[31mTypeError\u001b[39m: AssetExecutionContext.__init__() missing 1 required positional argument: 'op_execution_context'"
     ]
    }
   ],
   "source": [
    "# Create dummy context for asset functions\n",
    "context = AssetExecutionContext()\n",
    "\n",
    "# Call the core_data multi-asset\n",
    "rating_account_id, unique_customer_ids, core_data = core_data_asset(context)\n",
    "\n",
    "# Call the dependent assets\n",
    "usage_info = usage_info_asset(rating_account_id)\n",
    "customer_interactions = customer_interactions_asset(unique_customer_ids)"
   ]
  },
  {
   "cell_type": "code",
   "execution_count": 15,
   "id": "d72d9f0a",
   "metadata": {},
   "outputs": [
    {
     "ename": "TypeError",
     "evalue": "AssetExecutionContext.__init__() missing 1 required positional argument: 'op_execution_context'",
     "output_type": "error",
     "traceback": [
      "\u001b[31m---------------------------------------------------------------------------\u001b[39m",
      "\u001b[31mTypeError\u001b[39m                                 Traceback (most recent call last)",
      "\u001b[36mCell\u001b[39m\u001b[36m \u001b[39m\u001b[32mIn[15]\u001b[39m\u001b[32m, line 1\u001b[39m\n\u001b[32m----> \u001b[39m\u001b[32m1\u001b[39m context = \u001b[43mAssetExecutionContext\u001b[49m\u001b[43m(\u001b[49m\u001b[43m)\u001b[49m\n\u001b[32m      2\u001b[39m rating_account_id, unique_customer_ids, core_data = core_data_asset(context)\n",
      "\u001b[31mTypeError\u001b[39m: AssetExecutionContext.__init__() missing 1 required positional argument: 'op_execution_context'"
     ]
    }
   ],
   "source": [
    "context = AssetExecutionContext()\n",
    "rating_account_id, unique_customer_ids, core_data = core_data_asset(context)"
   ]
  },
  {
   "cell_type": "code",
   "execution_count": 16,
   "id": "9f2e6db6",
   "metadata": {},
   "outputs": [
    {
     "name": "stderr",
     "output_type": "stream",
     "text": [
      "INFO:dagster.builtin.code_location_interview.assets.magenta_interview.get_data:Age\n",
      "INFO:dagster.builtin.code_location_interview.assets.magenta_interview.get_data:contract_lifetime_days\n",
      "INFO:dagster.builtin.code_location_interview.assets.magenta_interview.get_data:remaining_binding_days\n",
      "INFO:dagster.builtin.code_location_interview.assets.magenta_interview.get_data:has_special_offer\n",
      "INFO:dagster.builtin.code_location_interview.assets.magenta_interview.get_data:available_gb\n",
      "INFO:dagster.builtin.code_location_interview.assets.magenta_interview.get_data:gross_mrc\n",
      "INFO:dagster.builtin.code_location_interview.assets.magenta_interview.get_data:smartphone_brand\n",
      "INFO:dagster.builtin.code_location_interview.assets.magenta_interview.get_data:0.43218\n",
      "INFO:dagster.builtin.code_location_interview.assets.magenta_interview.get_data:Create df\n"
     ]
    }
   ],
   "source": [
    "# 1. Load core_data (multi-asset returns 3 outputs)\n",
    "rating_account_id, unique_customer_ids, core_data = core_data_asset()\n",
    "\n",
    "# 2. Load usage_info and customer_interactions (dependent on outputs above)\n",
    "usage_info = usage_info_asset(rating_account_id)\n",
    "customer_interactions = customer_interactions_asset(unique_customer_ids)"
   ]
  },
  {
   "cell_type": "code",
   "execution_count": 17,
   "id": "d0dd19e0",
   "metadata": {},
   "outputs": [
    {
     "name": "stderr",
     "output_type": "stream",
     "text": [
      "INFO:dagster.builtin.code_location_interview.assets.magenta_interview.get_data:Age\n",
      "INFO:dagster.builtin.code_location_interview.assets.magenta_interview.get_data:contract_lifetime_days\n",
      "INFO:dagster.builtin.code_location_interview.assets.magenta_interview.get_data:remaining_binding_days\n",
      "INFO:dagster.builtin.code_location_interview.assets.magenta_interview.get_data:has_special_offer\n",
      "INFO:dagster.builtin.code_location_interview.assets.magenta_interview.get_data:available_gb\n",
      "INFO:dagster.builtin.code_location_interview.assets.magenta_interview.get_data:gross_mrc\n",
      "INFO:dagster.builtin.code_location_interview.assets.magenta_interview.get_data:smartphone_brand\n",
      "INFO:dagster.builtin.code_location_interview.assets.magenta_interview.get_data:0.432\n",
      "INFO:dagster.builtin.code_location_interview.assets.magenta_interview.get_data:Create df\n"
     ]
    },
    {
     "data": {
      "text/html": [
       "<div>\n",
       "<style scoped>\n",
       "    .dataframe tbody tr th:only-of-type {\n",
       "        vertical-align: middle;\n",
       "    }\n",
       "\n",
       "    .dataframe tbody tr th {\n",
       "        vertical-align: top;\n",
       "    }\n",
       "\n",
       "    .dataframe thead th {\n",
       "        text-align: right;\n",
       "    }\n",
       "</style>\n",
       "<table border=\"1\" class=\"dataframe\">\n",
       "  <thead>\n",
       "    <tr style=\"text-align: right;\">\n",
       "      <th></th>\n",
       "      <th>rating_account_id</th>\n",
       "      <th>customer_id</th>\n",
       "      <th>age</th>\n",
       "      <th>contract_lifetime_days</th>\n",
       "      <th>remaining_binding_days</th>\n",
       "      <th>has_special_offer</th>\n",
       "      <th>is_magenta1_customer</th>\n",
       "      <th>available_gb</th>\n",
       "      <th>gross_mrc</th>\n",
       "      <th>smartphone_brand</th>\n",
       "      <th>has_done_upselling</th>\n",
       "    </tr>\n",
       "  </thead>\n",
       "  <tbody>\n",
       "    <tr>\n",
       "      <th>0</th>\n",
       "      <td>675151</td>\n",
       "      <td>1.676167</td>\n",
       "      <td>31</td>\n",
       "      <td>898</td>\n",
       "      <td>140</td>\n",
       "      <td>0</td>\n",
       "      <td>0</td>\n",
       "      <td>50</td>\n",
       "      <td>12.96</td>\n",
       "      <td>iPhone</td>\n",
       "      <td>0</td>\n",
       "    </tr>\n",
       "    <tr>\n",
       "      <th>1</th>\n",
       "      <td>980608</td>\n",
       "      <td>4.305408</td>\n",
       "      <td>35</td>\n",
       "      <td>623</td>\n",
       "      <td>118</td>\n",
       "      <td>0</td>\n",
       "      <td>1</td>\n",
       "      <td>40</td>\n",
       "      <td>10.31</td>\n",
       "      <td>Samsung</td>\n",
       "      <td>0</td>\n",
       "    </tr>\n",
       "    <tr>\n",
       "      <th>2</th>\n",
       "      <td>803570</td>\n",
       "      <td>2.514329</td>\n",
       "      <td>45</td>\n",
       "      <td>703</td>\n",
       "      <td>43</td>\n",
       "      <td>0</td>\n",
       "      <td>1</td>\n",
       "      <td>30</td>\n",
       "      <td>52.76</td>\n",
       "      <td>Huawei</td>\n",
       "      <td>0</td>\n",
       "    </tr>\n",
       "    <tr>\n",
       "      <th>3</th>\n",
       "      <td>374796</td>\n",
       "      <td>3.581154</td>\n",
       "      <td>43</td>\n",
       "      <td>900</td>\n",
       "      <td>69</td>\n",
       "      <td>1</td>\n",
       "      <td>0</td>\n",
       "      <td>0</td>\n",
       "      <td>34.18</td>\n",
       "      <td>Samsung</td>\n",
       "      <td>0</td>\n",
       "    </tr>\n",
       "    <tr>\n",
       "      <th>4</th>\n",
       "      <td>832314</td>\n",
       "      <td>4.521470</td>\n",
       "      <td>49</td>\n",
       "      <td>871</td>\n",
       "      <td>-586</td>\n",
       "      <td>0</td>\n",
       "      <td>0</td>\n",
       "      <td>50</td>\n",
       "      <td>48.78</td>\n",
       "      <td>iPhone</td>\n",
       "      <td>0</td>\n",
       "    </tr>\n",
       "  </tbody>\n",
       "</table>\n",
       "</div>"
      ],
      "text/plain": [
       "   rating_account_id customer_id  age  contract_lifetime_days  \\\n",
       "0             675151    1.676167   31                     898   \n",
       "1             980608    4.305408   35                     623   \n",
       "2             803570    2.514329   45                     703   \n",
       "3             374796    3.581154   43                     900   \n",
       "4             832314    4.521470   49                     871   \n",
       "\n",
       "   remaining_binding_days  has_special_offer  is_magenta1_customer  \\\n",
       "0                     140                  0                     0   \n",
       "1                     118                  0                     1   \n",
       "2                      43                  0                     1   \n",
       "3                      69                  1                     0   \n",
       "4                    -586                  0                     0   \n",
       "\n",
       "  available_gb  gross_mrc smartphone_brand  has_done_upselling  \n",
       "0           50      12.96           iPhone                   0  \n",
       "1           40      10.31          Samsung                   0  \n",
       "2           30      52.76           Huawei                   0  \n",
       "3            0      34.18          Samsung                   0  \n",
       "4           50      48.78           iPhone                   0  "
      ]
     },
     "execution_count": 17,
     "metadata": {},
     "output_type": "execute_result"
    }
   ],
   "source": [
    "rating_account_id, unique_customer_ids, core_data = core_data_asset()\n",
    "usage_info = usage_info_asset(rating_account_id)\n",
    "customer_interactions = customer_interactions_asset(unique_customer_ids)\n",
    "\n",
    "core_data.head()"
   ]
  },
  {
   "cell_type": "code",
   "execution_count": 21,
   "id": "fbe0a3a1",
   "metadata": {},
   "outputs": [
    {
     "data": {
      "text/html": [
       "<div>\n",
       "<style scoped>\n",
       "    .dataframe tbody tr th:only-of-type {\n",
       "        vertical-align: middle;\n",
       "    }\n",
       "\n",
       "    .dataframe tbody tr th {\n",
       "        vertical-align: top;\n",
       "    }\n",
       "\n",
       "    .dataframe thead th {\n",
       "        text-align: right;\n",
       "    }\n",
       "</style>\n",
       "<table border=\"1\" class=\"dataframe\">\n",
       "  <thead>\n",
       "    <tr style=\"text-align: right;\">\n",
       "      <th></th>\n",
       "      <th>customer_id</th>\n",
       "      <th>type_subtype</th>\n",
       "      <th>n</th>\n",
       "      <th>days_since_last</th>\n",
       "    </tr>\n",
       "  </thead>\n",
       "  <tbody>\n",
       "    <tr>\n",
       "      <th>0</th>\n",
       "      <td>2.741624</td>\n",
       "      <td>prolongation</td>\n",
       "      <td>3</td>\n",
       "      <td>58</td>\n",
       "    </tr>\n",
       "    <tr>\n",
       "      <th>1</th>\n",
       "      <td>4.754414</td>\n",
       "      <td>produkte&amp;services-tarifwechsel</td>\n",
       "      <td>4</td>\n",
       "      <td>4</td>\n",
       "    </tr>\n",
       "    <tr>\n",
       "      <th>2</th>\n",
       "      <td>4.754414</td>\n",
       "      <td>produkte&amp;services-tarifdetails</td>\n",
       "      <td>1</td>\n",
       "      <td>124</td>\n",
       "    </tr>\n",
       "    <tr>\n",
       "      <th>3</th>\n",
       "      <td>4.404719</td>\n",
       "      <td>rechnungsanfragen</td>\n",
       "      <td>1</td>\n",
       "      <td>145</td>\n",
       "    </tr>\n",
       "    <tr>\n",
       "      <th>4</th>\n",
       "      <td>4.404719</td>\n",
       "      <td>produkte&amp;services-tarifdetails</td>\n",
       "      <td>2</td>\n",
       "      <td>176</td>\n",
       "    </tr>\n",
       "  </tbody>\n",
       "</table>\n",
       "</div>"
      ],
      "text/plain": [
       "  customer_id                    type_subtype  n  days_since_last\n",
       "0    2.741624                    prolongation  3               58\n",
       "1    4.754414  produkte&services-tarifwechsel  4                4\n",
       "2    4.754414  produkte&services-tarifdetails  1              124\n",
       "3    4.404719               rechnungsanfragen  1              145\n",
       "4    4.404719  produkte&services-tarifdetails  2              176"
      ]
     },
     "execution_count": 21,
     "metadata": {},
     "output_type": "execute_result"
    }
   ],
   "source": [
    "customer_interactions.head(5)"
   ]
  },
  {
   "cell_type": "code",
   "execution_count": 11,
   "id": "0ce1ee86",
   "metadata": {},
   "outputs": [
    {
     "ename": "NameError",
     "evalue": "name 'get_core_data' is not defined",
     "output_type": "error",
     "traceback": [
      "\u001b[31m---------------------------------------------------------------------------\u001b[39m",
      "\u001b[31mNameError\u001b[39m                                 Traceback (most recent call last)",
      "\u001b[36mCell\u001b[39m\u001b[36m \u001b[39m\u001b[32mIn[11]\u001b[39m\u001b[32m, line 1\u001b[39m\n\u001b[32m----> \u001b[39m\u001b[32m1\u001b[39m core_data = \u001b[43mget_core_data\u001b[49m(context)\n",
      "\u001b[31mNameError\u001b[39m: name 'get_core_data' is not defined"
     ]
    }
   ],
   "source": [
    "core_data = get_core_data(context)"
   ]
  },
  {
   "cell_type": "code",
   "execution_count": 4,
   "id": "52e252a5",
   "metadata": {},
   "outputs": [],
   "source": [
    "%load_ext autoreload\n",
    "%autoreload 2"
   ]
  },
  {
   "cell_type": "code",
   "execution_count": 5,
   "id": "ec0a850a",
   "metadata": {},
   "outputs": [],
   "source": [
    "import os\n",
    "import pickle"
   ]
  },
  {
   "cell_type": "code",
   "execution_count": 8,
   "id": "0275e687",
   "metadata": {},
   "outputs": [],
   "source": [
    "import os\n",
    "import pickle\n",
    "\n",
    "def load_artifact(targ_file: str):\n",
    "    artifact_dir = \"/workspaces/data-scientist-at-magenta-/artifacts\"  # or wherever the artifacts are\n",
    "    targ_path = os.path.join(artifact_dir, targ_file)\n",
    "    \n",
    "    with open(targ_path, 'rb') as fp:\n",
    "        return pickle.load(fp)"
   ]
  },
  {
   "cell_type": "code",
   "execution_count": 4,
   "id": "9647c552",
   "metadata": {},
   "outputs": [],
   "source": [
    "# Each time that you initialize Dagster a new temporary folder is created.\n",
    "# For the porpuse of this exercise we will save data in that temporary folder.\n",
    "# Substitute tmp*** with your folder (you can fin it in this repo).\n",
    "dir = \"../tmpbgyo249n/storage/\""
   ]
  },
  {
   "cell_type": "markdown",
   "id": "c2d5e3ae",
   "metadata": {},
   "source": [
    "`core_data`\n",
    "\n",
    "| Feature Name           | Description                                                  |\n",
    "|------------------------|--------------------------------------------------------------|\n",
    "| rating_account_id      | Unique identifier for the contract account                    |\n",
    "| customer_id            | Unique identifier for the customer                           |\n",
    "| age                    | Age of the customer                                          |\n",
    "| contract_lifetime_days | Total duration of the customer contract in days              |\n",
    "| remaining_binding_days | Number of days left in the contract binding period - usual binding period is 2 years        |\n",
    "| has_special_offer      | Indicates if the customer has a special offer      |\n",
    "| is_magenta1_customer   | Indicates if the customer is part of the Magenta1 program - fedelty program    |\n",
    "| available_gb           | Amount of mobile data included in the current tariff         |\n",
    "| gross_mrc              | Gross monthly recurring charge (in euros)                    |\n",
    "| smartphone_brand       | Brand of the customer’s smartphone                           |\n",
    "| has_done_upselling     | Whether the customer has already done an upsell in the last 3 years      |\n"
   ]
  },
  {
   "cell_type": "code",
   "execution_count": 9,
   "id": "39c95246",
   "metadata": {},
   "outputs": [
    {
     "ename": "FileNotFoundError",
     "evalue": "[Errno 2] No such file or directory: '/workspaces/data-scientist-at-magenta-/artifacts/core_data'",
     "output_type": "error",
     "traceback": [
      "\u001b[31m---------------------------------------------------------------------------\u001b[39m",
      "\u001b[31mFileNotFoundError\u001b[39m                         Traceback (most recent call last)",
      "\u001b[36mCell\u001b[39m\u001b[36m \u001b[39m\u001b[32mIn[9]\u001b[39m\u001b[32m, line 1\u001b[39m\n\u001b[32m----> \u001b[39m\u001b[32m1\u001b[39m core_data = \u001b[43mload_artifact\u001b[49m\u001b[43m(\u001b[49m\u001b[33;43m\"\u001b[39;49m\u001b[33;43mcore_data\u001b[39;49m\u001b[33;43m\"\u001b[39;49m\u001b[43m)\u001b[49m\n\u001b[32m      2\u001b[39m core_data\n",
      "\u001b[36mCell\u001b[39m\u001b[36m \u001b[39m\u001b[32mIn[8]\u001b[39m\u001b[32m, line 8\u001b[39m, in \u001b[36mload_artifact\u001b[39m\u001b[34m(targ_file)\u001b[39m\n\u001b[32m      5\u001b[39m artifact_dir = \u001b[33m\"\u001b[39m\u001b[33m/workspaces/data-scientist-at-magenta-/artifacts\u001b[39m\u001b[33m\"\u001b[39m  \u001b[38;5;66;03m# or wherever the artifacts are\u001b[39;00m\n\u001b[32m      6\u001b[39m targ_path = os.path.join(artifact_dir, targ_file)\n\u001b[32m----> \u001b[39m\u001b[32m8\u001b[39m \u001b[38;5;28;01mwith\u001b[39;00m \u001b[38;5;28;43mopen\u001b[39;49m\u001b[43m(\u001b[49m\u001b[43mtarg_path\u001b[49m\u001b[43m,\u001b[49m\u001b[43m \u001b[49m\u001b[33;43m'\u001b[39;49m\u001b[33;43mrb\u001b[39;49m\u001b[33;43m'\u001b[39;49m\u001b[43m)\u001b[49m \u001b[38;5;28;01mas\u001b[39;00m fp:\n\u001b[32m      9\u001b[39m     \u001b[38;5;28;01mreturn\u001b[39;00m pickle.load(fp)\n",
      "\u001b[36mFile \u001b[39m\u001b[32m~/.local/lib/python3.12/site-packages/IPython/core/interactiveshell.py:326\u001b[39m, in \u001b[36m_modified_open\u001b[39m\u001b[34m(file, *args, **kwargs)\u001b[39m\n\u001b[32m    319\u001b[39m \u001b[38;5;28;01mif\u001b[39;00m file \u001b[38;5;129;01min\u001b[39;00m {\u001b[32m0\u001b[39m, \u001b[32m1\u001b[39m, \u001b[32m2\u001b[39m}:\n\u001b[32m    320\u001b[39m     \u001b[38;5;28;01mraise\u001b[39;00m \u001b[38;5;167;01mValueError\u001b[39;00m(\n\u001b[32m    321\u001b[39m         \u001b[33mf\u001b[39m\u001b[33m\"\u001b[39m\u001b[33mIPython won\u001b[39m\u001b[33m'\u001b[39m\u001b[33mt let you open fd=\u001b[39m\u001b[38;5;132;01m{\u001b[39;00mfile\u001b[38;5;132;01m}\u001b[39;00m\u001b[33m by default \u001b[39m\u001b[33m\"\u001b[39m\n\u001b[32m    322\u001b[39m         \u001b[33m\"\u001b[39m\u001b[33mas it is likely to crash IPython. If you know what you are doing, \u001b[39m\u001b[33m\"\u001b[39m\n\u001b[32m    323\u001b[39m         \u001b[33m\"\u001b[39m\u001b[33myou can use builtins\u001b[39m\u001b[33m'\u001b[39m\u001b[33m open.\u001b[39m\u001b[33m\"\u001b[39m\n\u001b[32m    324\u001b[39m     )\n\u001b[32m--> \u001b[39m\u001b[32m326\u001b[39m \u001b[38;5;28;01mreturn\u001b[39;00m \u001b[43mio_open\u001b[49m\u001b[43m(\u001b[49m\u001b[43mfile\u001b[49m\u001b[43m,\u001b[49m\u001b[43m \u001b[49m\u001b[43m*\u001b[49m\u001b[43margs\u001b[49m\u001b[43m,\u001b[49m\u001b[43m \u001b[49m\u001b[43m*\u001b[49m\u001b[43m*\u001b[49m\u001b[43mkwargs\u001b[49m\u001b[43m)\u001b[49m\n",
      "\u001b[31mFileNotFoundError\u001b[39m: [Errno 2] No such file or directory: '/workspaces/data-scientist-at-magenta-/artifacts/core_data'"
     ]
    }
   ],
   "source": [
    "core_data = load_artifact(\"core_data\")\n",
    "core_data"
   ]
  },
  {
   "cell_type": "markdown",
   "id": "c16d3454",
   "metadata": {},
   "source": [
    "`usage_info`\n",
    "\n",
    "| Feature Name           | Description                                                  |\n",
    "|------------------------|--------------------------------------------------------------|\n",
    "| rating_account_id      | Unique identifier for the contract account                    |\n",
    "| billed_period_month_d  | Billing period (monthly)                                     |\n",
    "| has_used_roaming       | Indicates if roaming was used during the period            |\n",
    "| used_gb                | Amount of mobile data used in the billing period (in GB)     |\n"
   ]
  },
  {
   "cell_type": "code",
   "execution_count": 6,
   "id": "223afcb1",
   "metadata": {},
   "outputs": [
    {
     "data": {
      "text/html": [
       "<div>\n",
       "<style scoped>\n",
       "    .dataframe tbody tr th:only-of-type {\n",
       "        vertical-align: middle;\n",
       "    }\n",
       "\n",
       "    .dataframe tbody tr th {\n",
       "        vertical-align: top;\n",
       "    }\n",
       "\n",
       "    .dataframe thead th {\n",
       "        text-align: right;\n",
       "    }\n",
       "</style>\n",
       "<table border=\"1\" class=\"dataframe\">\n",
       "  <thead>\n",
       "    <tr style=\"text-align: right;\">\n",
       "      <th></th>\n",
       "      <th>rating_account_id</th>\n",
       "      <th>billed_period_month_d</th>\n",
       "      <th>has_used_roaming</th>\n",
       "      <th>used_gb</th>\n",
       "    </tr>\n",
       "  </thead>\n",
       "  <tbody>\n",
       "    <tr>\n",
       "      <th>0</th>\n",
       "      <td>356596</td>\n",
       "      <td>2024-04-01</td>\n",
       "      <td>1</td>\n",
       "      <td>0.6</td>\n",
       "    </tr>\n",
       "    <tr>\n",
       "      <th>1</th>\n",
       "      <td>356596</td>\n",
       "      <td>2024-05-01</td>\n",
       "      <td>0</td>\n",
       "      <td>1.0</td>\n",
       "    </tr>\n",
       "    <tr>\n",
       "      <th>2</th>\n",
       "      <td>356596</td>\n",
       "      <td>2024-06-01</td>\n",
       "      <td>0</td>\n",
       "      <td>1.0</td>\n",
       "    </tr>\n",
       "    <tr>\n",
       "      <th>3</th>\n",
       "      <td>356596</td>\n",
       "      <td>2024-07-01</td>\n",
       "      <td>0</td>\n",
       "      <td>0.2</td>\n",
       "    </tr>\n",
       "    <tr>\n",
       "      <th>4</th>\n",
       "      <td>417472</td>\n",
       "      <td>2024-04-01</td>\n",
       "      <td>1</td>\n",
       "      <td>0.7</td>\n",
       "    </tr>\n",
       "    <tr>\n",
       "      <th>...</th>\n",
       "      <td>...</td>\n",
       "      <td>...</td>\n",
       "      <td>...</td>\n",
       "      <td>...</td>\n",
       "    </tr>\n",
       "    <tr>\n",
       "      <th>399995</th>\n",
       "      <td>936250</td>\n",
       "      <td>2024-07-01</td>\n",
       "      <td>1</td>\n",
       "      <td>49.8</td>\n",
       "    </tr>\n",
       "    <tr>\n",
       "      <th>399996</th>\n",
       "      <td>686754</td>\n",
       "      <td>2024-04-01</td>\n",
       "      <td>0</td>\n",
       "      <td>58.4</td>\n",
       "    </tr>\n",
       "    <tr>\n",
       "      <th>399997</th>\n",
       "      <td>686754</td>\n",
       "      <td>2024-05-01</td>\n",
       "      <td>0</td>\n",
       "      <td>23.8</td>\n",
       "    </tr>\n",
       "    <tr>\n",
       "      <th>399998</th>\n",
       "      <td>686754</td>\n",
       "      <td>2024-06-01</td>\n",
       "      <td>0</td>\n",
       "      <td>43.7</td>\n",
       "    </tr>\n",
       "    <tr>\n",
       "      <th>399999</th>\n",
       "      <td>686754</td>\n",
       "      <td>2024-07-01</td>\n",
       "      <td>0</td>\n",
       "      <td>29.4</td>\n",
       "    </tr>\n",
       "  </tbody>\n",
       "</table>\n",
       "<p>400000 rows × 4 columns</p>\n",
       "</div>"
      ],
      "text/plain": [
       "        rating_account_id billed_period_month_d  has_used_roaming  used_gb\n",
       "0                  356596            2024-04-01                 1      0.6\n",
       "1                  356596            2024-05-01                 0      1.0\n",
       "2                  356596            2024-06-01                 0      1.0\n",
       "3                  356596            2024-07-01                 0      0.2\n",
       "4                  417472            2024-04-01                 1      0.7\n",
       "...                   ...                   ...               ...      ...\n",
       "399995             936250            2024-07-01                 1     49.8\n",
       "399996             686754            2024-04-01                 0     58.4\n",
       "399997             686754            2024-05-01                 0     23.8\n",
       "399998             686754            2024-06-01                 0     43.7\n",
       "399999             686754            2024-07-01                 0     29.4\n",
       "\n",
       "[400000 rows x 4 columns]"
      ]
     },
     "execution_count": 6,
     "metadata": {},
     "output_type": "execute_result"
    }
   ],
   "source": [
    "usage_info = load_artifact(\"usage_info\")\n",
    "usage_info"
   ]
  },
  {
   "cell_type": "markdown",
   "id": "24423647",
   "metadata": {},
   "source": [
    "`customer_interactions`\n",
    "\n",
    "| Feature Name   | Description                                                              |\n",
    "|----------------|--------------------------------------------------------------------------|\n",
    "| customer_id    | Unique identifier for the customer                                       |\n",
    "| type_subtype   | Category and subtype of the interaction (e.g., tariff change, billing)   |\n",
    "| n              | Number of interactions of this type in the last 6 months                                |\n",
    "| days_since_last| Number of days since the last interaction of this type                   |\n"
   ]
  },
  {
   "cell_type": "code",
   "execution_count": 10,
   "id": "e5482943",
   "metadata": {},
   "outputs": [
    {
     "ename": "FileNotFoundError",
     "evalue": "[Errno 2] No such file or directory: '/workspaces/data-scientist-at-magenta-/artifacts/customer_interactions'",
     "output_type": "error",
     "traceback": [
      "\u001b[31m---------------------------------------------------------------------------\u001b[39m",
      "\u001b[31mFileNotFoundError\u001b[39m                         Traceback (most recent call last)",
      "\u001b[36mCell\u001b[39m\u001b[36m \u001b[39m\u001b[32mIn[10]\u001b[39m\u001b[32m, line 1\u001b[39m\n\u001b[32m----> \u001b[39m\u001b[32m1\u001b[39m customer_interactions = \u001b[43mload_artifact\u001b[49m\u001b[43m(\u001b[49m\u001b[33;43m\"\u001b[39;49m\u001b[33;43mcustomer_interactions\u001b[39;49m\u001b[33;43m\"\u001b[39;49m\u001b[43m)\u001b[49m\n\u001b[32m      2\u001b[39m customer_interactions\n",
      "\u001b[36mCell\u001b[39m\u001b[36m \u001b[39m\u001b[32mIn[8]\u001b[39m\u001b[32m, line 8\u001b[39m, in \u001b[36mload_artifact\u001b[39m\u001b[34m(targ_file)\u001b[39m\n\u001b[32m      5\u001b[39m artifact_dir = \u001b[33m\"\u001b[39m\u001b[33m/workspaces/data-scientist-at-magenta-/artifacts\u001b[39m\u001b[33m\"\u001b[39m  \u001b[38;5;66;03m# or wherever the artifacts are\u001b[39;00m\n\u001b[32m      6\u001b[39m targ_path = os.path.join(artifact_dir, targ_file)\n\u001b[32m----> \u001b[39m\u001b[32m8\u001b[39m \u001b[38;5;28;01mwith\u001b[39;00m \u001b[38;5;28;43mopen\u001b[39;49m\u001b[43m(\u001b[49m\u001b[43mtarg_path\u001b[49m\u001b[43m,\u001b[49m\u001b[43m \u001b[49m\u001b[33;43m'\u001b[39;49m\u001b[33;43mrb\u001b[39;49m\u001b[33;43m'\u001b[39;49m\u001b[43m)\u001b[49m \u001b[38;5;28;01mas\u001b[39;00m fp:\n\u001b[32m      9\u001b[39m     \u001b[38;5;28;01mreturn\u001b[39;00m pickle.load(fp)\n",
      "\u001b[36mFile \u001b[39m\u001b[32m~/.local/lib/python3.12/site-packages/IPython/core/interactiveshell.py:326\u001b[39m, in \u001b[36m_modified_open\u001b[39m\u001b[34m(file, *args, **kwargs)\u001b[39m\n\u001b[32m    319\u001b[39m \u001b[38;5;28;01mif\u001b[39;00m file \u001b[38;5;129;01min\u001b[39;00m {\u001b[32m0\u001b[39m, \u001b[32m1\u001b[39m, \u001b[32m2\u001b[39m}:\n\u001b[32m    320\u001b[39m     \u001b[38;5;28;01mraise\u001b[39;00m \u001b[38;5;167;01mValueError\u001b[39;00m(\n\u001b[32m    321\u001b[39m         \u001b[33mf\u001b[39m\u001b[33m\"\u001b[39m\u001b[33mIPython won\u001b[39m\u001b[33m'\u001b[39m\u001b[33mt let you open fd=\u001b[39m\u001b[38;5;132;01m{\u001b[39;00mfile\u001b[38;5;132;01m}\u001b[39;00m\u001b[33m by default \u001b[39m\u001b[33m\"\u001b[39m\n\u001b[32m    322\u001b[39m         \u001b[33m\"\u001b[39m\u001b[33mas it is likely to crash IPython. If you know what you are doing, \u001b[39m\u001b[33m\"\u001b[39m\n\u001b[32m    323\u001b[39m         \u001b[33m\"\u001b[39m\u001b[33myou can use builtins\u001b[39m\u001b[33m'\u001b[39m\u001b[33m open.\u001b[39m\u001b[33m\"\u001b[39m\n\u001b[32m    324\u001b[39m     )\n\u001b[32m--> \u001b[39m\u001b[32m326\u001b[39m \u001b[38;5;28;01mreturn\u001b[39;00m \u001b[43mio_open\u001b[49m\u001b[43m(\u001b[49m\u001b[43mfile\u001b[49m\u001b[43m,\u001b[49m\u001b[43m \u001b[49m\u001b[43m*\u001b[49m\u001b[43margs\u001b[49m\u001b[43m,\u001b[49m\u001b[43m \u001b[49m\u001b[43m*\u001b[49m\u001b[43m*\u001b[49m\u001b[43mkwargs\u001b[49m\u001b[43m)\u001b[49m\n",
      "\u001b[31mFileNotFoundError\u001b[39m: [Errno 2] No such file or directory: '/workspaces/data-scientist-at-magenta-/artifacts/customer_interactions'"
     ]
    }
   ],
   "source": [
    "customer_interactions = load_artifact(\"customer_interactions\")\n",
    "customer_interactions"
   ]
  }
 ],
 "metadata": {
  "kernelspec": {
   "display_name": "ci-validation",
   "language": "python",
   "name": "python3"
  },
  "language_info": {
   "codemirror_mode": {
    "name": "ipython",
    "version": 3
   },
   "file_extension": ".py",
   "mimetype": "text/x-python",
   "name": "python",
   "nbconvert_exporter": "python",
   "pygments_lexer": "ipython3",
   "version": "3.12.0"
  }
 },
 "nbformat": 4,
 "nbformat_minor": 5
}
